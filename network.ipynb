{
 "cells": [
  {
   "cell_type": "markdown",
   "id": "211eda26",
   "metadata": {},
   "source": [
    "# Using pyvis to visualize Chinese counterfeit customs data\n",
    "\n",
    "This jupyter notebook uses a sample from __[my scraped database of Chinese companies](https://github.com/HernandezPatrick/China-Crawler)__<br>targeted by Shenzhen customs authorities for allegedly counterfeiting foreign brands."
   ]
  },
  {
   "cell_type": "markdown",
   "id": "86e2992f",
   "metadata": {},
   "source": [
    "### import statements"
   ]
  },
  {
   "cell_type": "code",
   "execution_count": 15,
   "id": "df7a774c",
   "metadata": {},
   "outputs": [],
   "source": [
    "import pandas as pd\n",
    "import pandoc\n",
    "import numpy as np\n",
    "from pyvis import network as net"
   ]
  },
  {
   "cell_type": "markdown",
   "id": "0149d2b3",
   "metadata": {},
   "source": [
    "### set up the pyvis network"
   ]
  },
  {
   "cell_type": "code",
   "execution_count": 16,
   "id": "44ff09bd",
   "metadata": {},
   "outputs": [],
   "source": [
    "g=net.Network(notebook=True, height='700px', width='100%', bgcolor='#222222', font_color='white')"
   ]
  },
  {
   "cell_type": "markdown",
   "id": "eabae181",
   "metadata": {},
   "source": [
    "### create objects to track edge counts"
   ]
  },
  {
   "cell_type": "code",
   "execution_count": 17,
   "id": "e9ecfdbc",
   "metadata": {},
   "outputs": [],
   "source": [
    "companies = []\n",
    "companyEdges = {}\n",
    "logos = {}"
   ]
  },
  {
   "cell_type": "markdown",
   "id": "acd1365a",
   "metadata": {},
   "source": [
    "### parse + zip the sample data"
   ]
  },
  {
   "cell_type": "code",
   "execution_count": 18,
   "id": "891ee009",
   "metadata": {},
   "outputs": [],
   "source": [
    "fp = \"C:\\\\Users\\\\Patrick\\\\Desktop\\\\china\\\\250cleaned.csv\"\n",
    "df = pd.read_csv(fp, dtype=str)\n",
    "zp = zip(df['uscc'], df['nameCN'], df['nameEN'], df['brands'])"
   ]
  },
  {
   "cell_type": "code",
   "execution_count": 19,
   "id": "75a804dc",
   "metadata": {
    "scrolled": true
   },
   "outputs": [
    {
     "data": {
      "text/html": [
       "<div>\n",
       "<style scoped>\n",
       "    .dataframe tbody tr th:only-of-type {\n",
       "        vertical-align: middle;\n",
       "    }\n",
       "\n",
       "    .dataframe tbody tr th {\n",
       "        vertical-align: top;\n",
       "    }\n",
       "\n",
       "    .dataframe thead th {\n",
       "        text-align: right;\n",
       "    }\n",
       "</style>\n",
       "<table border=\"1\" class=\"dataframe\">\n",
       "  <thead>\n",
       "    <tr style=\"text-align: right;\">\n",
       "      <th></th>\n",
       "      <th>uscc</th>\n",
       "      <th>nameCN</th>\n",
       "      <th>nameEN</th>\n",
       "      <th>brands</th>\n",
       "      <th>address</th>\n",
       "    </tr>\n",
       "  </thead>\n",
       "  <tbody>\n",
       "    <tr>\n",
       "      <th>0</th>\n",
       "      <td>91440300MA5ETANA2K</td>\n",
       "      <td>深圳市新锐泰科技有限公司</td>\n",
       "      <td>Shenzhen Xinruitai Technology Co., Ltd.</td>\n",
       "      <td>apple</td>\n",
       "      <td>深圳市南山区粤海街道科慧路1号</td>\n",
       "    </tr>\n",
       "    <tr>\n",
       "      <th>1</th>\n",
       "      <td>91440300781355428Q</td>\n",
       "      <td>深圳市奥之林贸易有限公司</td>\n",
       "      <td>Shenzhen Aozhilin Trading Co., Ltd.</td>\n",
       "      <td>apple</td>\n",
       "      <td>深圳市罗湖区文锦南路商检大厦2006房统一</td>\n",
       "    </tr>\n",
       "    <tr>\n",
       "      <th>2</th>\n",
       "      <td>91440300781355428Q</td>\n",
       "      <td>深圳市奥之林贸易有限公司</td>\n",
       "      <td>Shenzhen Aozhilin Trading Co., Ltd.</td>\n",
       "      <td>elle</td>\n",
       "      <td>深圳市罗湖区文锦南路商检大厦2006房统一</td>\n",
       "    </tr>\n",
       "    <tr>\n",
       "      <th>3</th>\n",
       "      <td>91440300MA5ETANA2K</td>\n",
       "      <td>深圳市新锐泰科技有限公司</td>\n",
       "      <td>Shenzhen Xinruitai Technology Co., Ltd.</td>\n",
       "      <td>converse,nike</td>\n",
       "      <td>深圳市南山区粤海街道科慧路1号</td>\n",
       "    </tr>\n",
       "    <tr>\n",
       "      <th>4</th>\n",
       "      <td>91440300MA5ETANA2K</td>\n",
       "      <td>深圳市新锐泰科技有限公司</td>\n",
       "      <td>Shenzhen Xinruitai Technology Co., Ltd.</td>\n",
       "      <td>dior</td>\n",
       "      <td>深圳市南山区粤海街道科慧路1号</td>\n",
       "    </tr>\n",
       "    <tr>\n",
       "      <th>...</th>\n",
       "      <td>...</td>\n",
       "      <td>...</td>\n",
       "      <td>...</td>\n",
       "      <td>...</td>\n",
       "      <td>...</td>\n",
       "    </tr>\n",
       "    <tr>\n",
       "      <th>244</th>\n",
       "      <td>91440300MA5EGKW045</td>\n",
       "      <td>深圳市伟通贸易有限公司</td>\n",
       "      <td>Shenzhen Weitong Trading Co., Ltd.</td>\n",
       "      <td>huawei,samsung,honor</td>\n",
       "      <td>深圳市宝安区福海街道桥头社区富桥工业区一</td>\n",
       "    </tr>\n",
       "    <tr>\n",
       "      <th>245</th>\n",
       "      <td>91440605314914542M</td>\n",
       "      <td>佛山市骐宇进出口有限公司</td>\n",
       "      <td>Foshan Qiyu Import &amp; Export Co., Ltd.</td>\n",
       "      <td>puma</td>\n",
       "      <td>佛山市南海区桂城街道南海万达广场南4栋1206室之一</td>\n",
       "    </tr>\n",
       "    <tr>\n",
       "      <th>246</th>\n",
       "      <td>91440300758636731R</td>\n",
       "      <td>深圳市飞鹰实业有限公司</td>\n",
       "      <td>Shenzhen Feiying Industrial Co., Ltd.</td>\n",
       "      <td>adidas</td>\n",
       "      <td>深圳市宝安区福永街道兴华路102号A栋三楼B309室统一</td>\n",
       "    </tr>\n",
       "    <tr>\n",
       "      <th>247</th>\n",
       "      <td>9144030069558286XT</td>\n",
       "      <td>深圳市易达凯电子有限公司</td>\n",
       "      <td>Shenzhen Yidakai Electronics Co., Ltd.</td>\n",
       "      <td>murata</td>\n",
       "      <td>深圳市南山区桃源街道南山智园A4栋201</td>\n",
       "    </tr>\n",
       "    <tr>\n",
       "      <th>248</th>\n",
       "      <td>914401145760480153</td>\n",
       "      <td>广州艾博伦皮具有限公司</td>\n",
       "      <td>Guangzhou Aibolon Leather Co., Ltd.</td>\n",
       "      <td>wenger</td>\n",
       "      <td>广州市花都区狮岭镇前进村苏屋路自编89号</td>\n",
       "    </tr>\n",
       "  </tbody>\n",
       "</table>\n",
       "<p>249 rows × 5 columns</p>\n",
       "</div>"
      ],
      "text/plain": [
       "                   uscc        nameCN  \\\n",
       "0    91440300MA5ETANA2K  深圳市新锐泰科技有限公司   \n",
       "1    91440300781355428Q  深圳市奥之林贸易有限公司   \n",
       "2    91440300781355428Q  深圳市奥之林贸易有限公司   \n",
       "3    91440300MA5ETANA2K  深圳市新锐泰科技有限公司   \n",
       "4    91440300MA5ETANA2K  深圳市新锐泰科技有限公司   \n",
       "..                  ...           ...   \n",
       "244  91440300MA5EGKW045   深圳市伟通贸易有限公司   \n",
       "245  91440605314914542M  佛山市骐宇进出口有限公司   \n",
       "246  91440300758636731R   深圳市飞鹰实业有限公司   \n",
       "247  9144030069558286XT  深圳市易达凯电子有限公司   \n",
       "248  914401145760480153   广州艾博伦皮具有限公司   \n",
       "\n",
       "                                      nameEN                brands  \\\n",
       "0    Shenzhen Xinruitai Technology Co., Ltd.                 apple   \n",
       "1        Shenzhen Aozhilin Trading Co., Ltd.                 apple   \n",
       "2        Shenzhen Aozhilin Trading Co., Ltd.                  elle   \n",
       "3    Shenzhen Xinruitai Technology Co., Ltd.         converse,nike   \n",
       "4    Shenzhen Xinruitai Technology Co., Ltd.                  dior   \n",
       "..                                       ...                   ...   \n",
       "244       Shenzhen Weitong Trading Co., Ltd.  huawei,samsung,honor   \n",
       "245    Foshan Qiyu Import & Export Co., Ltd.                  puma   \n",
       "246    Shenzhen Feiying Industrial Co., Ltd.                adidas   \n",
       "247   Shenzhen Yidakai Electronics Co., Ltd.                murata   \n",
       "248      Guangzhou Aibolon Leather Co., Ltd.                wenger   \n",
       "\n",
       "                          address  \n",
       "0                 深圳市南山区粤海街道科慧路1号  \n",
       "1           深圳市罗湖区文锦南路商检大厦2006房统一  \n",
       "2           深圳市罗湖区文锦南路商检大厦2006房统一  \n",
       "3                 深圳市南山区粤海街道科慧路1号  \n",
       "4                 深圳市南山区粤海街道科慧路1号  \n",
       "..                            ...  \n",
       "244          深圳市宝安区福海街道桥头社区富桥工业区一  \n",
       "245    佛山市南海区桂城街道南海万达广场南4栋1206室之一  \n",
       "246  深圳市宝安区福永街道兴华路102号A栋三楼B309室统一  \n",
       "247          深圳市南山区桃源街道南山智园A4栋201  \n",
       "248          广州市花都区狮岭镇前进村苏屋路自编89号  \n",
       "\n",
       "[249 rows x 5 columns]"
      ]
     },
     "execution_count": 19,
     "metadata": {},
     "output_type": "execute_result"
    }
   ],
   "source": [
    "df"
   ]
  },
  {
   "cell_type": "markdown",
   "id": "e18b8f7a",
   "metadata": {},
   "source": [
    "### create edges and nodes"
   ]
  },
  {
   "cell_type": "code",
   "execution_count": 20,
   "id": "5c477baf",
   "metadata": {},
   "outputs": [],
   "source": [
    "for i in zp:\n",
    "    compID, chName, enName, ip = i[0], i[1], i[2], i[3]\n",
    "    \n",
    "    if compID not in companies:\n",
    "        g.add_node(compID, label=enName, title= (compID + ' - ' + chName), shape='image',\n",
    "        image='https://cdn-icons-png.flaticon.com/512/4036/4036843.png',\n",
    "        brokenImage='https://pics.freeicons.io/uploads/icons/png/2799012341582884271-512.png')\n",
    "        companies.append(compID)\n",
    "        companyEdges[compID] = 0\n",
    "        \n",
    "    if type(ip) is str:\n",
    "            for b in ip.split(\",\"):\n",
    "                if b not in logos.keys():\n",
    "                    b = b.upper()\n",
    "                    g.add_node(b, shape='circle', color= 'red', labelHighlightBold=True)\n",
    "                    logos[b] = 0\n",
    "                g.add_edge(compID, b, title='Allegedly counterfeited')\n",
    "                logos[b] += 5\n",
    "                companyEdges[compID] += 5\n",
    "\n",
    "                g.get_node(b)['mass'] = logos[b]   # Mass drives repulsive force in the pyvis physics model\n",
    "                g.get_node(compID)['mass'] = companyEdges[compID]"
   ]
  },
  {
   "cell_type": "markdown",
   "id": "e7001e24",
   "metadata": {},
   "source": [
    "### pyvis visualization\n",
    "\n",
    "**[Click here to view the visualization.](https://HernandezPatrick.github.io)**\n",
    "\n",
    "Use the mouse scroll wheel (or two fingers on most trackpads) to zoom in/out and see the node labels.<br>\n",
    "Hovering over a company node displays its Unified Social Credit Code and Chinese name."
   ]
  }
 ],
 "metadata": {
  "kernelspec": {
   "display_name": "Python 3 (ipykernel)",
   "language": "python",
   "name": "python3"
  },
  "language_info": {
   "codemirror_mode": {
    "name": "ipython",
    "version": 3
   },
   "file_extension": ".py",
   "mimetype": "text/x-python",
   "name": "python",
   "nbconvert_exporter": "python",
   "pygments_lexer": "ipython3",
   "version": "3.10.1"
  }
 },
 "nbformat": 4,
 "nbformat_minor": 5
}
